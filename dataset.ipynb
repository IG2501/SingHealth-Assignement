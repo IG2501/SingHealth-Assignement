{
 "cells": [
  {
   "cell_type": "code",
   "execution_count": 270,
   "id": "a70f2136",
   "metadata": {},
   "outputs": [
    {
     "data": {
      "text/html": [
       "<div>\n",
       "<style scoped>\n",
       "    .dataframe tbody tr th:only-of-type {\n",
       "        vertical-align: middle;\n",
       "    }\n",
       "\n",
       "    .dataframe tbody tr th {\n",
       "        vertical-align: top;\n",
       "    }\n",
       "\n",
       "    .dataframe thead th {\n",
       "        text-align: right;\n",
       "    }\n",
       "</style>\n",
       "<table border=\"1\" class=\"dataframe\">\n",
       "  <thead>\n",
       "    <tr style=\"text-align: right;\">\n",
       "      <th></th>\n",
       "      <th>ID</th>\n",
       "      <th>Survive</th>\n",
       "      <th>Age</th>\n",
       "      <th>AgeGroup</th>\n",
       "      <th>Sex</th>\n",
       "      <th>Infection</th>\n",
       "      <th>SysBP</th>\n",
       "      <th>Pulse</th>\n",
       "      <th>Emergency</th>\n",
       "    </tr>\n",
       "  </thead>\n",
       "  <tbody>\n",
       "    <tr>\n",
       "      <th>1</th>\n",
       "      <td>4</td>\n",
       "      <td>0</td>\n",
       "      <td>87</td>\n",
       "      <td>3</td>\n",
       "      <td>1</td>\n",
       "      <td>1</td>\n",
       "      <td>80</td>\n",
       "      <td>96</td>\n",
       "      <td>1</td>\n",
       "    </tr>\n",
       "    <tr>\n",
       "      <th>2</th>\n",
       "      <td>8</td>\n",
       "      <td>1</td>\n",
       "      <td>27</td>\n",
       "      <td>1</td>\n",
       "      <td>1</td>\n",
       "      <td>1</td>\n",
       "      <td>142</td>\n",
       "      <td>88</td>\n",
       "      <td>1</td>\n",
       "    </tr>\n",
       "    <tr>\n",
       "      <th>3</th>\n",
       "      <td>12</td>\n",
       "      <td>1</td>\n",
       "      <td>59</td>\n",
       "      <td>2</td>\n",
       "      <td>0</td>\n",
       "      <td>0</td>\n",
       "      <td>112</td>\n",
       "      <td>80</td>\n",
       "      <td>1</td>\n",
       "    </tr>\n",
       "    <tr>\n",
       "      <th>4</th>\n",
       "      <td>14</td>\n",
       "      <td>1</td>\n",
       "      <td>77</td>\n",
       "      <td>3</td>\n",
       "      <td>0</td>\n",
       "      <td>0</td>\n",
       "      <td>100</td>\n",
       "      <td>70</td>\n",
       "      <td>0</td>\n",
       "    </tr>\n",
       "    <tr>\n",
       "      <th>5</th>\n",
       "      <td>27</td>\n",
       "      <td>0</td>\n",
       "      <td>76</td>\n",
       "      <td>3</td>\n",
       "      <td>1</td>\n",
       "      <td>1</td>\n",
       "      <td>128</td>\n",
       "      <td>90</td>\n",
       "      <td>1</td>\n",
       "    </tr>\n",
       "  </tbody>\n",
       "</table>\n",
       "</div>"
      ],
      "text/plain": [
       "   ID  Survive  Age  AgeGroup  Sex  Infection  SysBP  Pulse  Emergency\n",
       "1   4        0   87         3    1          1     80     96          1\n",
       "2   8        1   27         1    1          1    142     88          1\n",
       "3  12        1   59         2    0          0    112     80          1\n",
       "4  14        1   77         3    0          0    100     70          0\n",
       "5  27        0   76         3    1          1    128     90          1"
      ]
     },
     "execution_count": 270,
     "metadata": {},
     "output_type": "execute_result"
    }
   ],
   "source": [
    "import os\n",
    "import pandas as pd\n",
    "import numpy as np\n",
    "import sqlite3 as db\n",
    "\n",
    "import seaborn as sns \n",
    "import matplotlib.pyplot as plt \n",
    "\n",
    "from sklearn.model_selection import train_test_split\n",
    "from sklearn.preprocessing import StandardScaler\n",
    "from sklearn.linear_model import LogisticRegression\n",
    "from sklearn.metrics import accuracy_score, confusion_matrix, roc_auc_score, precision_score,recall_score, f1_score\n",
    "from sklearn.tree import DecisionTreeClassifier\n",
    "from sklearn.ensemble import RandomForestClassifier\n",
    "\n",
    "\n",
    "#import the ICU_patients dataset stored\n",
    "#in the folder ICU_patients\n",
    "\n",
    "file =('ICU_patients/\\\n",
    "ICU.csv')\n",
    "\n",
    "#ICU_patients dataset\n",
    "data = pd.read_csv(file, index_col=0)\n",
    "\n",
    "#displaying the dataset\n",
    "data.head()\n"
   ]
  },
  {
   "cell_type": "code",
   "execution_count": 271,
   "id": "4ee7dc03",
   "metadata": {},
   "outputs": [
    {
     "name": "stdout",
     "output_type": "stream",
     "text": [
      "<class 'pandas.core.frame.DataFrame'>\n",
      "Int64Index: 200 entries, 1 to 200\n",
      "Data columns (total 9 columns):\n",
      " #   Column     Non-Null Count  Dtype\n",
      "---  ------     --------------  -----\n",
      " 0   ID         200 non-null    int64\n",
      " 1   Survive    200 non-null    int64\n",
      " 2   Age        200 non-null    int64\n",
      " 3   AgeGroup   200 non-null    int64\n",
      " 4   Sex        200 non-null    int64\n",
      " 5   Infection  200 non-null    int64\n",
      " 6   SysBP      200 non-null    int64\n",
      " 7   Pulse      200 non-null    int64\n",
      " 8   Emergency  200 non-null    int64\n",
      "dtypes: int64(9)\n",
      "memory usage: 15.6 KB\n"
     ]
    }
   ],
   "source": [
    "#checking if there is any null values\n",
    "data.info(verbose=True, show_counts=True)\n",
    "\n",
    "#all the columns have the same number of entries as the number of rows\n",
    "#hence all the columns have complete entries (no null entries)"
   ]
  },
  {
   "cell_type": "code",
   "execution_count": 272,
   "id": "d9a5b7e0",
   "metadata": {},
   "outputs": [
    {
     "data": {
      "text/html": [
       "<div>\n",
       "<style scoped>\n",
       "    .dataframe tbody tr th:only-of-type {\n",
       "        vertical-align: middle;\n",
       "    }\n",
       "\n",
       "    .dataframe tbody tr th {\n",
       "        vertical-align: top;\n",
       "    }\n",
       "\n",
       "    .dataframe thead th {\n",
       "        text-align: right;\n",
       "    }\n",
       "</style>\n",
       "<table border=\"1\" class=\"dataframe\">\n",
       "  <thead>\n",
       "    <tr style=\"text-align: right;\">\n",
       "      <th></th>\n",
       "      <th>ID</th>\n",
       "      <th>Survive</th>\n",
       "      <th>Age</th>\n",
       "      <th>Sex</th>\n",
       "      <th>Infection</th>\n",
       "      <th>SysBP</th>\n",
       "      <th>Pulse</th>\n",
       "      <th>Emergency</th>\n",
       "    </tr>\n",
       "  </thead>\n",
       "  <tbody>\n",
       "    <tr>\n",
       "      <th>1</th>\n",
       "      <td>4</td>\n",
       "      <td>0</td>\n",
       "      <td>87</td>\n",
       "      <td>1</td>\n",
       "      <td>1</td>\n",
       "      <td>80</td>\n",
       "      <td>96</td>\n",
       "      <td>1</td>\n",
       "    </tr>\n",
       "    <tr>\n",
       "      <th>2</th>\n",
       "      <td>8</td>\n",
       "      <td>1</td>\n",
       "      <td>27</td>\n",
       "      <td>1</td>\n",
       "      <td>1</td>\n",
       "      <td>142</td>\n",
       "      <td>88</td>\n",
       "      <td>1</td>\n",
       "    </tr>\n",
       "    <tr>\n",
       "      <th>3</th>\n",
       "      <td>12</td>\n",
       "      <td>1</td>\n",
       "      <td>59</td>\n",
       "      <td>0</td>\n",
       "      <td>0</td>\n",
       "      <td>112</td>\n",
       "      <td>80</td>\n",
       "      <td>1</td>\n",
       "    </tr>\n",
       "    <tr>\n",
       "      <th>4</th>\n",
       "      <td>14</td>\n",
       "      <td>1</td>\n",
       "      <td>77</td>\n",
       "      <td>0</td>\n",
       "      <td>0</td>\n",
       "      <td>100</td>\n",
       "      <td>70</td>\n",
       "      <td>0</td>\n",
       "    </tr>\n",
       "    <tr>\n",
       "      <th>5</th>\n",
       "      <td>27</td>\n",
       "      <td>0</td>\n",
       "      <td>76</td>\n",
       "      <td>1</td>\n",
       "      <td>1</td>\n",
       "      <td>128</td>\n",
       "      <td>90</td>\n",
       "      <td>1</td>\n",
       "    </tr>\n",
       "  </tbody>\n",
       "</table>\n",
       "</div>"
      ],
      "text/plain": [
       "   ID  Survive  Age  Sex  Infection  SysBP  Pulse  Emergency\n",
       "1   4        0   87    1          1     80     96          1\n",
       "2   8        1   27    1          1    142     88          1\n",
       "3  12        1   59    0          0    112     80          1\n",
       "4  14        1   77    0          0    100     70          0\n",
       "5  27        0   76    1          1    128     90          1"
      ]
     },
     "execution_count": 272,
     "metadata": {},
     "output_type": "execute_result"
    }
   ],
   "source": [
    "#data normalization\n",
    "\n",
    "df1 = pd.read_csv(file, index_col=0)\n",
    "df1.pop('AgeGroup')\n",
    "df1.head()\n"
   ]
  },
  {
   "cell_type": "code",
   "execution_count": 273,
   "id": "29bd16c9",
   "metadata": {},
   "outputs": [
    {
     "data": {
      "text/html": [
       "<div>\n",
       "<style scoped>\n",
       "    .dataframe tbody tr th:only-of-type {\n",
       "        vertical-align: middle;\n",
       "    }\n",
       "\n",
       "    .dataframe tbody tr th {\n",
       "        vertical-align: top;\n",
       "    }\n",
       "\n",
       "    .dataframe thead th {\n",
       "        text-align: right;\n",
       "    }\n",
       "</style>\n",
       "<table border=\"1\" class=\"dataframe\">\n",
       "  <thead>\n",
       "    <tr style=\"text-align: right;\">\n",
       "      <th></th>\n",
       "      <th>Age</th>\n",
       "      <th>AgeGroup</th>\n",
       "    </tr>\n",
       "  </thead>\n",
       "  <tbody>\n",
       "    <tr>\n",
       "      <th>0</th>\n",
       "      <td>87</td>\n",
       "      <td>3</td>\n",
       "    </tr>\n",
       "    <tr>\n",
       "      <th>1</th>\n",
       "      <td>27</td>\n",
       "      <td>1</td>\n",
       "    </tr>\n",
       "    <tr>\n",
       "      <th>2</th>\n",
       "      <td>59</td>\n",
       "      <td>2</td>\n",
       "    </tr>\n",
       "    <tr>\n",
       "      <th>3</th>\n",
       "      <td>77</td>\n",
       "      <td>3</td>\n",
       "    </tr>\n",
       "    <tr>\n",
       "      <th>4</th>\n",
       "      <td>76</td>\n",
       "      <td>3</td>\n",
       "    </tr>\n",
       "  </tbody>\n",
       "</table>\n",
       "</div>"
      ],
      "text/plain": [
       "   Age  AgeGroup\n",
       "0   87         3\n",
       "1   27         1\n",
       "2   59         2\n",
       "3   77         3\n",
       "4   76         3"
      ]
     },
     "execution_count": 273,
     "metadata": {},
     "output_type": "execute_result"
    }
   ],
   "source": [
    "#separate agegroups (transitive dependency)\n",
    "df2 = pd.read_csv(file,usecols = ['Age','AgeGroup'])\n",
    "\n",
    "#unique age with the subsequent age groups\n",
    "df2.drop_duplicates(keep=\"first\", inplace=True)\n",
    "df2.head()\n",
    "\n",
    "#the number of entries\n",
    "#df2.shape"
   ]
  },
  {
   "cell_type": "code",
   "execution_count": 274,
   "id": "06ced7a0",
   "metadata": {},
   "outputs": [],
   "source": [
    "#data visualization\n",
    "#sqlite normalized dataset\n",
    "\n",
    "conn = db.connect('test.db',timeout = 20)\n",
    "c = conn.cursor()\n",
    "\n",
    "#table 1:patients\n",
    "c.execute(\"DROP TABLE IF EXISTS icu\")\n",
    "c.execute(\"CREATE TABLE icu (ID int, Survive int, Age int,Sex int, Infection int, SysBP int, Pulse int, Emergency int)\")\n",
    "df1.to_sql('icu', conn, if_exists='append', index = False)\n",
    "#c.execute(\"SELECT * FROM icu\").fetchall()\n",
    "\n",
    "#colnames = c.description\n",
    "#for row in colnames:\n",
    "    #print(row[0])\n"
   ]
  },
  {
   "cell_type": "code",
   "execution_count": 275,
   "id": "c5a299da",
   "metadata": {},
   "outputs": [],
   "source": [
    "#table 2: agegroups\n",
    "c.execute(\"DROP TABLE IF EXISTS age\")\n",
    "c.execute(\"CREATE TABLE age (Age int,AgeGroup int)\")\n",
    "df2.to_sql('age', conn, if_exists='append', index = False)\n",
    "#c.execute(\"SELECT * FROM age\").fetchall()\n",
    "\n",
    "#colnames = c.description\n",
    "#for row in colnames:\n",
    "    #print(row[0])"
   ]
  },
  {
   "cell_type": "code",
   "execution_count": 276,
   "id": "0f308772",
   "metadata": {},
   "outputs": [
    {
     "name": "stderr",
     "output_type": "stream",
     "text": [
      "C:\\Users\\treei\\anaconda3\\lib\\site-packages\\seaborn\\_decorators.py:36: FutureWarning: Pass the following variable as a keyword arg: x. From version 0.12, the only valid positional argument will be `data`, and passing other arguments without an explicit keyword will result in an error or misinterpretation.\n",
      "  warnings.warn(\n"
     ]
    },
    {
     "data": {
      "image/png": "[encoded data removed]",
      "text/plain": [
       "<Figure size 432x288 with 1 Axes>"
      ]
     },
     "metadata": {
      "needs_background": "light"
     },
     "output_type": "display_data"
    }
   ],
   "source": [
    "#graph counting the number of patients who survived [==1] vs the number of patients who did not survive [==0]\n",
    "plt.figure()\n",
    "sns.countplot(data['Survive'])\n",
    "plt.show()"
   ]
  },
  {
   "cell_type": "code",
   "execution_count": 277,
   "id": "d4b7ee33",
   "metadata": {},
   "outputs": [],
   "source": [
    "#split the data into test and train\n",
    "\n",
    "#predictors - prediction features \n",
    "features = df1.drop(columns='Survive')\n",
    "\n",
    "#outcome variable \n",
    "target = df1[['Survive']]\n",
    "\n",
    "#train_test_split\n",
    "x_train , x_test , y_train , y_test = train_test_split(features,target,test_size=0.2,random_state=2)\n"
   ]
  },
  {
   "cell_type": "code",
   "execution_count": 278,
   "id": "4de05d16",
   "metadata": {},
   "outputs": [
    {
     "data": {
      "text/html": [
       "<div>\n",
       "<style scoped>\n",
       "    .dataframe tbody tr th:only-of-type {\n",
       "        vertical-align: middle;\n",
       "    }\n",
       "\n",
       "    .dataframe tbody tr th {\n",
       "        vertical-align: top;\n",
       "    }\n",
       "\n",
       "    .dataframe thead th {\n",
       "        text-align: right;\n",
       "    }\n",
       "</style>\n",
       "<table border=\"1\" class=\"dataframe\">\n",
       "  <thead>\n",
       "    <tr style=\"text-align: right;\">\n",
       "      <th></th>\n",
       "    </tr>\n",
       "  </thead>\n",
       "  <tbody>\n",
       "  </tbody>\n",
       "</table>\n",
       "</div>"
      ],
      "text/plain": [
       "Empty DataFrame\n",
       "Columns: []\n",
       "Index: []"
      ]
     },
     "execution_count": 278,
     "metadata": {},
     "output_type": "execute_result"
    }
   ],
   "source": [
    "#metrics dataframe\n",
    "metrics = pd.DataFrame()"
   ]
  },
  {
   "cell_type": "code",
   "execution_count": 279,
   "id": "1fd1b317",
   "metadata": {},
   "outputs": [
    {
     "name": "stdout",
     "output_type": "stream",
     "text": [
      "Train Accuracy:  0.8125\n",
      "Test Accuracy:  0.775\n"
     ]
    }
   ],
   "source": [
    "# Logistic Regression\n",
    "lr_model = LogisticRegression(max_iter=1000)\n",
    "lr_model.fit(x_train,y_train.values.ravel())\n",
    "\n",
    "#accuracy of the model\n",
    "#train-model\n",
    "y_train_pred = lr_model.predict(x_train)\n",
    "train_lr_acc = accuracy_score( y_train.values.ravel(), y_train_pred)\n",
    "print(\"Train Accuracy: \",train_lr_acc)\n",
    "#test-model\n",
    "y_test_pred = lr_model.predict(x_test)\n",
    "test_lr_acc = accuracy_score( y_test.values.ravel(), y_test_pred)\n",
    "print(\"Test Accuracy: \",test_lr_acc)\n"
   ]
  },
  {
   "cell_type": "code",
   "execution_count": null,
   "id": "bb44471f",
   "metadata": {
    "scrolled": true
   },
   "outputs": [],
   "source": [
    "#Metrics of Logistic Regression Model"
   ]
  },
  {
   "cell_type": "code",
   "execution_count": 280,
   "id": "7476b6fc",
   "metadata": {},
   "outputs": [
    {
     "name": "stdout",
     "output_type": "stream",
     "text": [
      "Confusion Matrix:\n",
      "[[ 1  8]\n",
      " [ 1 30]]\n",
      "Precision:  0.7894736842105263 Recall:  0.967741935483871 f1:  0.8695652173913043 ROC:  0.5394265232974911\n"
     ]
    }
   ],
   "source": [
    "#confusion matrix\n",
    "cf = confusion_matrix(y_test.values.ravel(), y_test_pred)\n",
    "print(\"Confusion Matrix:\")\n",
    "print(cf)\n",
    "\n",
    "#metrics\n",
    "precision = precision_score(y_test.values.ravel(), y_test_pred)\n",
    "recall = recall_score(y_test.values.ravel(), y_test_pred)\n",
    "f1 = f1_score(y_test.values.ravel(), y_test_pred)\n",
    "roc = roc_auc_score(y_test.values.ravel(), y_test_pred)\n",
    "\n",
    "lr = {\"Train Accuracy\":train_lr_acc,\"Test_Accuracy\":test_lr_acc,\"Precision\":precision, \"Recall\":recall, \"F1\":f1, \"ROC\": roc}\n",
    "metrics = metrics.append(lr, ignore_index=True)\n",
    "print(\"Precision: \",precision,\n",
    "     \"Recall: \",recall,\n",
    "     \"f1: \",f1,\n",
    "     \"ROC: \",roc)\n"
   ]
  },
  {
   "cell_type": "code",
   "execution_count": 203,
   "id": "90ed6165",
   "metadata": {},
   "outputs": [],
   "source": [
    "#Decision Tree"
   ]
  },
  {
   "cell_type": "code",
   "execution_count": 281,
   "id": "fa2c3ce3",
   "metadata": {},
   "outputs": [
    {
     "name": "stdout",
     "output_type": "stream",
     "text": [
      "Train Accuracy:  0.8375\n",
      "Test Accuracy:  0.825\n"
     ]
    }
   ],
   "source": [
    "df_model = DecisionTreeClassifier(criterion='entropy', max_depth=3, random_state=42, max_features = 'auto')\n",
    "\n",
    "#train-model\n",
    "df_model.fit(x_train, y_train)\n",
    "\n",
    "#train-model\n",
    "y_train_pred = df_model.predict(x_train)\n",
    "train_df_acc = accuracy_score( y_train.values.ravel(), y_train_pred)\n",
    "print(\"Train Accuracy: \",train_df_acc)\n",
    "\n",
    "#test-model\n",
    "y_test_pred = df_model.predict(x_test)\n",
    "\n",
    "test_df_acc = accuracy_score( y_test.values.ravel(), y_test_pred)\n",
    "print(\"Test Accuracy: \",test_df_acc)"
   ]
  },
  {
   "cell_type": "code",
   "execution_count": null,
   "id": "5793026a",
   "metadata": {},
   "outputs": [],
   "source": [
    "#Metrics of Decision Tree Model"
   ]
  },
  {
   "cell_type": "code",
   "execution_count": 282,
   "id": "c97a7a58",
   "metadata": {},
   "outputs": [
    {
     "name": "stdout",
     "output_type": "stream",
     "text": [
      "Confusion Matrix:\n",
      "[[ 2  7]\n",
      " [ 0 31]]\n",
      "Precision:  0.8157894736842105 Recall:  1.0 f1:  0.898550724637681 ROC:  0.6111111111111112\n"
     ]
    }
   ],
   "source": [
    "#confusion matrix\n",
    "cf = confusion_matrix(y_test.values.ravel(), y_test_pred)\n",
    "print(\"Confusion Matrix:\")\n",
    "print(cf)\n",
    "\n",
    "#metrics\n",
    "precision_df = precision_score(y_test.values.ravel(), y_test_pred)\n",
    "recall_df = recall_score(y_test.values.ravel(), y_test_pred)\n",
    "f1_df = f1_score(y_test.values.ravel(), y_test_pred)\n",
    "roc_df = roc_auc_score(y_test.values.ravel(), y_test_pred)\n",
    "df = {\"Train Accuracy\":train_df_acc,\"Test_Accuracy\":test_df_acc,\"Precision\":precision_df, \"Recall\":recall_df, \"F1\":f1_df, \"ROC\": roc_df}\n",
    "metrics = metrics.append(df, ignore_index=True)\n",
    "print(\"Precision: \",precision_df,\n",
    "     \"Recall: \",recall_df,\n",
    "     \"f1: \",f1_df,\n",
    "     \"ROC: \",roc_df)"
   ]
  },
  {
   "cell_type": "code",
   "execution_count": 283,
   "id": "8c3f440b",
   "metadata": {},
   "outputs": [
    {
     "name": "stdout",
     "output_type": "stream",
     "text": [
      "Train Accuracy:  0.99375\n",
      "Test Accuracy:  0.825\n"
     ]
    }
   ],
   "source": [
    "#Random Forest\n",
    "\n",
    "model_rf = RandomForestClassifier(n_estimators = 10,random_state=42)\n",
    "\n",
    "#train-model\n",
    "model_rf.fit(x_train, y_train.values.ravel())\n",
    "\n",
    "#train-model\n",
    "y_train_pred = model_rf.predict(x_train)\n",
    "train_rf_acc = accuracy_score( y_train.values.ravel(), y_train_pred)\n",
    "print(\"Train Accuracy: \",train_rf_acc)\n",
    "\n",
    "#test-model\n",
    "y_test_pred = model_rf.predict(x_test)\n",
    "\n",
    "test_rf_acc = accuracy_score( y_test.values.ravel(), y_test_pred)\n",
    "print(\"Test Accuracy: \",test_rf_acc)\n"
   ]
  },
  {
   "cell_type": "code",
   "execution_count": 284,
   "id": "b0bcf56b",
   "metadata": {},
   "outputs": [
    {
     "name": "stdout",
     "output_type": "stream",
     "text": [
      "Confusion Matrix:\n",
      "[[ 3  6]\n",
      " [ 1 30]]\n",
      "Precision:  0.8333333333333334 Recall:  0.967741935483871 f1:  0.8955223880597015 ROC:  0.6505376344086022\n"
     ]
    }
   ],
   "source": [
    "#Metrics of Random Forest Model\n",
    "\n",
    "#confusion matrix\n",
    "cf = confusion_matrix(y_test.values.ravel(), y_test_pred)\n",
    "print(\"Confusion Matrix:\")\n",
    "print(cf)\n",
    "\n",
    "#metrics\n",
    "precision_rf = precision_score(y_test.values.ravel(), y_test_pred)\n",
    "recall_rf = recall_score(y_test.values.ravel(), y_test_pred)\n",
    "f1_rf = f1_score(y_test.values.ravel(), y_test_pred)\n",
    "roc_rf = roc_auc_score(y_test.values.ravel(), y_test_pred)\n",
    "\n",
    "rf = {\"Train Accuracy\":train_rf_acc,\"Test_Accuracy\":test_rf_acc,\"Precision\":precision_rf, \"Recall\":recall_rf, \"F1\":f1_rf, \"ROC\": roc_rf}\n",
    "metrics = metrics.append(rf, ignore_index=True)\n",
    "\n",
    "print(\"Precision: \",precision_rf,\n",
    "     \"Recall: \",recall_rf,\n",
    "     \"f1: \",f1_rf,\n",
    "     \"ROC: \",roc_rf)"
   ]
  },
  {
   "cell_type": "code",
   "execution_count": null,
   "id": "de8eecae",
   "metadata": {},
   "outputs": [],
   "source": [
    "metrics.index = ['Logistic Regression', 'Decsion Tree', 'Random Forest']\n",
    "print(metrics)"
   ]
  },
  {
   "cell_type": "code",
   "execution_count": 258,
   "id": "ec73d3af",
   "metadata": {},
   "outputs": [
    {
     "name": "stdout",
     "output_type": "stream",
     "text": [
      "0.46774193548387094\n",
      "                           F1  Precision       ROC    Recall  Test_Accuracy  \\\n",
      "Logistic Regression  0.869565   0.789474  0.539427  0.967742          0.775   \n",
      "Decsion Tree         0.898551   0.815789  0.611111  1.000000          0.825   \n",
      "Random Forest        0.895522   0.833333  0.650538  0.967742          0.825   \n",
      "\n",
      "                     Train Accuracy  \n",
      "Logistic Regression         0.81250  \n",
      "Decsion Tree                0.83750  \n",
      "Random Forest               0.99375  \n"
     ]
    }
   ],
   "source": [
    "#Conclusion\n",
    "#Decision tree and random forest have the best test accuracy.\n",
    "#ROC (Receiver Operator Characteristic - that is the ability of the model to distinguish between the two classes),\n",
    "# of the Random Forest Model is higher than the other two models in addition to precision"
   ]
  }
 ],
 "metadata": {
  "kernelspec": {
   "display_name": "Python 3",
   "language": "python",
   "name": "python3"
  },
  "language_info": {
   "codemirror_mode": {
    "name": "ipython",
    "version": 3
   },
   "file_extension": ".py",
   "mimetype": "text/x-python",
   "name": "python",
   "nbconvert_exporter": "python",
   "pygments_lexer": "ipython3",
   "version": "3.8.8"
  }
 },
 "nbformat": 4,
 "nbformat_minor": 5
}
